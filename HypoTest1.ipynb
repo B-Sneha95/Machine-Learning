{
 "cells": [
  {
   "cell_type": "code",
   "execution_count": 5,
   "id": "8105cc51-4fbb-474e-b20f-4ebb1233cdfe",
   "metadata": {},
   "outputs": [
    {
     "name": "stdout",
     "output_type": "stream",
     "text": [
      "  Session_ID   User_ID            Timestamp Design_Version  Pages_Visited  \\\n",
      "0     SESS_1  USER_012  2025-03-21 10:00:00            OLD              4   \n",
      "1     SESS_2  USER_011  2025-03-21 10:05:00            NEW              5   \n",
      "2     SESS_3  USER_001  2025-03-21 10:10:00            NEW              4   \n",
      "3     SESS_4  USER_017  2025-03-21 10:15:00            OLD              2   \n",
      "4     SESS_5  USER_004  2025-03-21 10:20:00            OLD              3   \n",
      "\n",
      "   Session_Duration User_Device       Location  \n",
      "0               272     Desktop    Los Angeles  \n",
      "1               111      Tablet         Austin  \n",
      "2               194      Tablet       New York  \n",
      "3               258      Mobile        Phoenix  \n",
      "4                81      Mobile  San Francisco  \n"
     ]
    }
   ],
   "source": [
    "import pandas as pd\n",
    "import numpy as np\n",
    "\n",
    "path = \"C:\\\\Users\\\\bsneh\\\\Downloads\\\\synthetic_ecommerce_data.csv\"\n",
    "data = pd.read_csv(path) \n",
    "df = pd.DataFrame(data)  \n",
    "\n",
    "print(df.head())\n"
   ]
  },
  {
   "cell_type": "markdown",
   "id": "129e53a7-5f7d-4160-a3fe-b4e823e5b2a8",
   "metadata": {},
   "source": [
    "# Part 1: Formulating Hypothesis"
   ]
  },
  {
   "cell_type": "code",
   "execution_count": null,
   "id": "301393e8-20a9-488f-81d3-4173dcaeee45",
   "metadata": {},
   "outputs": [],
   "source": [
    "#1. Define this scenario's null hypothesis (H0H0) and alternative hypothesis (HaHa).\n",
    "\n",
    "# H0(Null Hypothesis)-There is no difference in user engagement between the old and new designs.\n",
    "#Ha(Alternate Hypothesis)-There is a difference in user engagement between the old and new designs."
   ]
  },
  {
   "cell_type": "markdown",
   "id": "f743e034-648f-468a-841a-2003a094d0ad",
   "metadata": {},
   "source": [
    "# Part 2: Statistical Test Selection"
   ]
  },
  {
   "cell_type": "code",
   "execution_count": null,
   "id": "5ca0787d-2f40-4522-8b25-d398bd566d97",
   "metadata": {},
   "outputs": [],
   "source": [
    "# Here the sample size is greater than 30 and the population variance is not known so we go for a t-test \n",
    "#The problem involves comparing the average number of pages visited between the old and new website designs.\n",
    "#A t-test is appropriate for comparing the means of two independent groups."
   ]
  },
  {
   "cell_type": "markdown",
   "id": "bbe2bb75-dcc3-4e49-b608-cf031134f4ae",
   "metadata": {},
   "source": [
    "# Part 3: Performing Hypothesis Testing"
   ]
  },
  {
   "cell_type": "code",
   "execution_count": 10,
   "id": "5741d877-e0a7-4929-af62-6a3ebc8bb0d8",
   "metadata": {},
   "outputs": [
    {
     "name": "stdout",
     "output_type": "stream",
     "text": [
      "Old Design: Mean = 4.60, Std Dev = 0.92\n",
      "New Design: Mean = 6.30, Std Dev = 0.90\n",
      "T-statistic: -3.9703\n",
      "P-value: 0.0009\n"
     ]
    }
   ],
   "source": [
    "import scipy.stats as stats\n",
    "import numpy as np\n",
    "\n",
    "old_design = [4, 5, 6, 3, 4, 5, 4, 6, 5, 4]\n",
    "new_design = [5, 6, 7, 6, 5, 7, 6, 8, 7, 6]\n",
    "\n",
    "#Calculating Mean \n",
    "mean_old=np.mean(old_design)\n",
    "mean_new=np.mean(new_design)\n",
    "\n",
    "#Calculating Standard deviation\n",
    "std_old=np.std(old_design)\n",
    "std_new=np.std(new_design)\n",
    "\n",
    "#t-test\n",
    "t_stat, p_value = stats.ttest_ind(old_design, new_design)\n",
    "\n",
    "print(f\"Old Design: Mean = {mean_old:.2f}, Std Dev = {std_old:.2f}\")\n",
    "print(f\"New Design: Mean = {mean_new:.2f}, Std Dev = {std_new:.2f}\")\n",
    "print(f\"T-statistic: {t_stat:.4f}\")\n",
    "print(f\"P-value: {p_value:.4f}\")\n",
    "\n"
   ]
  },
  {
   "cell_type": "markdown",
   "id": "2c7a0db5-eb63-49dd-b04d-dddb72a8af4c",
   "metadata": {},
   "source": [
    "# Part 4: Interpreting Results"
   ]
  },
  {
   "cell_type": "code",
   "execution_count": 14,
   "id": "ebb7adae-d0bf-4a84-9541-5749b106af6b",
   "metadata": {},
   "outputs": [
    {
     "name": "stdout",
     "output_type": "stream",
     "text": [
      "Reject the null hypothesis: There is no significant difference between the two designs.\n",
      "Conclusion:So there is a significant difference between the two designs\n"
     ]
    }
   ],
   "source": [
    "alpha = 0.05  # Significance level\n",
    "if p_value < alpha:\n",
    "    print(\"Reject the null hypothesis: There is no significant difference between the two designs.\")\n",
    "    print(\"Conclusion:So there is a significant difference between the two designs\")\n",
    "else:\n",
    "    print(\"Fail to reject the null hypothesis: There is significant difference between the two designs.\")\n",
    "    print(\"Conclusion:So there is no significant difference between the two designs\")"
   ]
  },
  {
   "cell_type": "code",
   "execution_count": null,
   "id": "6c4f0188-dbb5-45c9-8819-93cab4c10767",
   "metadata": {},
   "outputs": [],
   "source": []
  },
  {
   "cell_type": "code",
   "execution_count": null,
   "id": "b82bdd17-81fa-4091-a75c-033c4ef3deaa",
   "metadata": {},
   "outputs": [],
   "source": []
  },
  {
   "cell_type": "code",
   "execution_count": null,
   "id": "9e347ea8-6b13-4aaf-93fc-4bdcf5fe96ce",
   "metadata": {},
   "outputs": [],
   "source": []
  },
  {
   "cell_type": "code",
   "execution_count": null,
   "id": "ac3d09a8-e03e-48dd-af98-8a5a58fb701c",
   "metadata": {},
   "outputs": [],
   "source": []
  },
  {
   "cell_type": "code",
   "execution_count": null,
   "id": "288ae7ca-9e15-44a4-ba90-21c90d443e6d",
   "metadata": {},
   "outputs": [],
   "source": []
  }
 ],
 "metadata": {
  "kernelspec": {
   "display_name": "Python 3 (ipykernel)",
   "language": "python",
   "name": "python3"
  },
  "language_info": {
   "codemirror_mode": {
    "name": "ipython",
    "version": 3
   },
   "file_extension": ".py",
   "mimetype": "text/x-python",
   "name": "python",
   "nbconvert_exporter": "python",
   "pygments_lexer": "ipython3",
   "version": "3.12.4"
  }
 },
 "nbformat": 4,
 "nbformat_minor": 5
}
