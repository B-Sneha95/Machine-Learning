{
 "cells": [
  {
   "cell_type": "markdown",
   "id": "6d3e1c31-97db-48de-ad82-facd998c1236",
   "metadata": {},
   "source": [
    "#Machine Learning sales project"
   ]
  },
  {
   "cell_type": "code",
   "execution_count": 2,
   "id": "caea8f19-6fdd-4dbc-a516-a2e2d0ddff93",
   "metadata": {},
   "outputs": [
    {
     "name": "stdout",
     "output_type": "stream",
     "text": [
      "          Date  Sales_Amount  Units_Sold  Customer_Age  Discount_Percentage  \\\n",
      "0   2024-01-01         100.0         5.0          25.0                  5.0   \n",
      "1   2024-01-02         200.0         8.0          30.0                 10.0   \n",
      "2   2024-01-03         150.0         6.0          22.0                  3.0   \n",
      "3   2024-01-04         250.0        10.0          35.0                 15.0   \n",
      "4   2024-01-05         300.0        12.0          40.0                 20.0   \n",
      "5   2024-01-06           NaN         NaN           NaN                  NaN   \n",
      "6   2024-01-07         500.0        15.0          50.0                 25.0   \n",
      "7         None         700.0        20.0          60.0                 30.0   \n",
      "8   2024-01-09        1100.0        30.0          20.0                 35.0   \n",
      "9   2024-01-10         900.0        25.0          45.0                 40.0   \n",
      "10  2024-01-11        1500.0        35.0          55.0                 50.0   \n",
      "11  2024-01-12         350.0        10.0          38.0                  8.0   \n",
      "12  2024-01-13         400.0        14.0          29.0                 12.0   \n",
      "13  2024-01-14           NaN         NaN           NaN                  NaN   \n",
      "14  2024-01-15         600.0        18.0          42.0                 18.0   \n",
      "15  2024-01-16        2500.0        50.0          75.0                 60.0   \n",
      "16  2024-01-17        2700.0        55.0          80.0                 65.0   \n",
      "17  2024-01-18        2900.0        60.0          85.0                 70.0   \n",
      "18  2024-01-19         100.0         4.0          19.0                  2.0   \n",
      "19  2024-01-20          50.0         2.0          21.0                  1.0   \n",
      "\n",
      "   Region  \n",
      "0   North  \n",
      "1   South  \n",
      "2    East  \n",
      "3    West  \n",
      "4   North  \n",
      "5   South  \n",
      "6    East  \n",
      "7    West  \n",
      "8   North  \n",
      "9   South  \n",
      "10   East  \n",
      "11   West  \n",
      "12   None  \n",
      "13  South  \n",
      "14   East  \n",
      "15   West  \n",
      "16  North  \n",
      "17  South  \n",
      "18   East  \n",
      "19   West  \n"
     ]
    }
   ],
   "source": [
    "import pandas as pd\n",
    "import numpy as np\n",
    "from sklearn.impute import SimpleImputer\n",
    "\n",
    "sales_data = {\n",
    "    \"Date\": ['2024-01-01', '2024-01-02', '2024-01-03', '2024-01-04', '2024-01-05',\n",
    "    '2024-01-06', '2024-01-07', None, '2024-01-09', '2024-01-10',\n",
    "    '2024-01-11', '2024-01-12', '2024-01-13', '2024-01-14', '2024-01-15',\n",
    "    '2024-01-16', '2024-01-17', '2024-01-18', '2024-01-19', '2024-01-20'],\n",
    "    \"Sales_Amount\": [100, 200, 150, 250, 300, None, 500, 700, 1100, 900, 1500, 350, 400, None, 600, 2500, 2700, 2900, 100, 50],\n",
    "    \"Units_Sold\": [5, 8, 6, 10, 12, None, 15, 20, 30, 25, 35, 10, 14, None, 18, 50, 55, 60, 4, 2],\n",
    "    \"Customer_Age\": [25, 30, 22, 35, 40, None, 50, 60, 20, 45, 55, 38, 29, None, 42, 75, 80, 85, 19, 21],\n",
    "    \"Discount_Percentage\": [5, 10, 3, 15, 20, None, 25, 30, 35, 40, 50, 8, 12, None, 18, 60, 65, 70, 2, 1],\n",
    "    \"Region\": [\"North\", \"South\", \"East\", \"West\", \"North\", \"South\", \"East\", \"West\", \"North\", \"South\",\n",
    "               \"East\", \"West\", None, \"South\", \"East\", \"West\", \"North\", \"South\", \"East\", \"West\"]\n",
    "}\n",
    "\n",
    "df = pd.DataFrame(sales_data)\n",
    "print(df)\n"
   ]
  },
  {
   "cell_type": "code",
   "execution_count": 3,
   "id": "aedaba6b-477a-4d51-aa0f-b49ebcfec557",
   "metadata": {},
   "outputs": [
    {
     "data": {
      "text/plain": [
       "Date                   1\n",
       "Sales_Amount           2\n",
       "Units_Sold             2\n",
       "Customer_Age           2\n",
       "Discount_Percentage    2\n",
       "Region                 1\n",
       "dtype: int64"
      ]
     },
     "execution_count": 3,
     "metadata": {},
     "output_type": "execute_result"
    }
   ],
   "source": [
    "df.isnull().sum()"
   ]
  },
  {
   "cell_type": "code",
   "execution_count": 13,
   "id": "89411779-8465-47a0-bc57-09b95ab6d0f0",
   "metadata": {},
   "outputs": [
    {
     "name": "stdout",
     "output_type": "stream",
     "text": [
      "          Date  Sales_Amount  Units_Sold  Customer_Age  Discount_Percentage  \\\n",
      "0   2024-01-01         100.0    5.000000          25.0             5.000000   \n",
      "1   2024-01-02         200.0    8.000000          30.0            10.000000   \n",
      "2   2024-01-03         150.0    6.000000          22.0             3.000000   \n",
      "3   2024-01-04         250.0   10.000000          35.0            15.000000   \n",
      "4   2024-01-05         300.0   12.000000          40.0            20.000000   \n",
      "5   2024-01-06         850.0   21.055556           NaN            26.055556   \n",
      "6   2024-01-07         500.0   15.000000          50.0            25.000000   \n",
      "7         None         700.0   20.000000          60.0            30.000000   \n",
      "8   2024-01-09        1100.0   30.000000          20.0            35.000000   \n",
      "9   2024-01-10         900.0   25.000000          45.0            40.000000   \n",
      "10  2024-01-11        1500.0   35.000000          55.0            50.000000   \n",
      "11  2024-01-12         350.0   10.000000          38.0             8.000000   \n",
      "12  2024-01-13         400.0   14.000000          29.0            12.000000   \n",
      "13  2024-01-14         850.0   21.055556           NaN            26.055556   \n",
      "14  2024-01-15         600.0   18.000000          42.0            18.000000   \n",
      "15  2024-01-16        2500.0   50.000000          75.0            60.000000   \n",
      "16  2024-01-17        2700.0   55.000000          80.0            65.000000   \n",
      "17  2024-01-18        2900.0   60.000000          85.0            70.000000   \n",
      "18  2024-01-19         100.0    4.000000          19.0             2.000000   \n",
      "19  2024-01-20          50.0    2.000000          21.0             1.000000   \n",
      "\n",
      "   Region  \n",
      "0   North  \n",
      "1   South  \n",
      "2    East  \n",
      "3    West  \n",
      "4   North  \n",
      "5   South  \n",
      "6    East  \n",
      "7    West  \n",
      "8   North  \n",
      "9   South  \n",
      "10   East  \n",
      "11   West  \n",
      "12   None  \n",
      "13  South  \n",
      "14   East  \n",
      "15   West  \n",
      "16  North  \n",
      "17  South  \n",
      "18   East  \n",
      "19   West  \n"
     ]
    }
   ],
   "source": [
    "from sklearn.impute import SimpleImputer\n",
    "imputer = SimpleImputer(strategy='mean')\n",
    "df[['Sales_Amount','Units_Sold','Discount_Percentage']]=imputer.fit_transform(df[['Sales_Amount','Units_Sold','Discount_Percentage']])\n",
    "print(df)"
   ]
  },
  {
   "cell_type": "code",
   "execution_count": 41,
   "id": "519d1cfa-12e8-4ad9-9aa3-a766f038d0e0",
   "metadata": {},
   "outputs": [],
   "source": [
    "region_imputer=SimpleImputer(strategy='most_frequent')\n",
    "df[['Region']]=region_imputer.fit_transform(df[['Region']])\n",
    "# print(df)"
   ]
  },
  {
   "cell_type": "code",
   "execution_count": 47,
   "id": "2676fa26-f396-4300-bc1f-a500f7377335",
   "metadata": {},
   "outputs": [
    {
     "name": "stdout",
     "output_type": "stream",
     "text": [
      "         Date  Sales_Amount  Units_Sold  Customer_Age  Discount_Percentage  \\\n",
      "0  2024-01-01         100.0    5.000000          25.0             5.000000   \n",
      "1  2024-01-02         200.0    8.000000          30.0            10.000000   \n",
      "2  2024-01-03         150.0    6.000000          22.0             3.000000   \n",
      "3  2024-01-04         250.0   10.000000          35.0            15.000000   \n",
      "4  2024-01-05         300.0   12.000000          40.0            20.000000   \n",
      "5  2024-01-06         850.0   21.055556          19.0            26.055556   \n",
      "6  2024-01-07         500.0   15.000000          50.0            25.000000   \n",
      "7  2024-01-07         700.0   20.000000          60.0            30.000000   \n",
      "8  2024-01-09        1100.0   30.000000          20.0            35.000000   \n",
      "9  2024-01-10         900.0   25.000000          45.0            40.000000   \n",
      "10 2024-01-11        1500.0   35.000000          55.0            50.000000   \n",
      "11 2024-01-12         350.0   10.000000          38.0             8.000000   \n",
      "12 2024-01-13         400.0   14.000000          29.0            12.000000   \n",
      "13 2024-01-14         850.0   21.055556          19.0            26.055556   \n",
      "14 2024-01-15         600.0   18.000000          42.0            18.000000   \n",
      "15 2024-01-16        2500.0   50.000000          75.0            60.000000   \n",
      "16 2024-01-17        2700.0   55.000000          80.0            65.000000   \n",
      "17 2024-01-18        2900.0   60.000000          85.0            70.000000   \n",
      "18 2024-01-19         100.0    4.000000          19.0             2.000000   \n",
      "19 2024-01-20          50.0    2.000000          21.0             1.000000   \n",
      "\n",
      "   Region  \n",
      "0   North  \n",
      "1   South  \n",
      "2    East  \n",
      "3    West  \n",
      "4   North  \n",
      "5   South  \n",
      "6    East  \n",
      "7    West  \n",
      "8   North  \n",
      "9   South  \n",
      "10   East  \n",
      "11   West  \n",
      "12   None  \n",
      "13  South  \n",
      "14   East  \n",
      "15   West  \n",
      "16  North  \n",
      "17  South  \n",
      "18   East  \n",
      "19   West  \n"
     ]
    }
   ],
   "source": [
    "Age_imputer=SimpleImputer(strategy='most_frequent')\n",
    "df[['Customer_Age']]=Age_imputer.fit_transform(df[['Customer_Age']])\n",
    "print(df)                                     "
   ]
  },
  {
   "cell_type": "code",
   "execution_count": 48,
   "id": "099557ce-375a-4a79-903c-3790469a2cf9",
   "metadata": {},
   "outputs": [
    {
     "name": "stdout",
     "output_type": "stream",
     "text": [
      "         Date  Sales_Amount  Units_Sold  Customer_Age  Discount_Percentage  \\\n",
      "0  2024-01-01         100.0    5.000000          25.0             5.000000   \n",
      "1  2024-01-02         200.0    8.000000          30.0            10.000000   \n",
      "2  2024-01-03         150.0    6.000000          22.0             3.000000   \n",
      "3  2024-01-04         250.0   10.000000          35.0            15.000000   \n",
      "4  2024-01-05         300.0   12.000000          40.0            20.000000   \n",
      "5  2024-01-06         850.0   21.055556          19.0            26.055556   \n",
      "6  2024-01-07         500.0   15.000000          50.0            25.000000   \n",
      "7  2024-01-07         700.0   20.000000          60.0            30.000000   \n",
      "8  2024-01-09        1100.0   30.000000          20.0            35.000000   \n",
      "9  2024-01-10         900.0   25.000000          45.0            40.000000   \n",
      "10 2024-01-11        1500.0   35.000000          55.0            50.000000   \n",
      "11 2024-01-12         350.0   10.000000          38.0             8.000000   \n",
      "12 2024-01-13         400.0   14.000000          29.0            12.000000   \n",
      "13 2024-01-14         850.0   21.055556          19.0            26.055556   \n",
      "14 2024-01-15         600.0   18.000000          42.0            18.000000   \n",
      "15 2024-01-16        2500.0   50.000000          75.0            60.000000   \n",
      "16 2024-01-17        2700.0   55.000000          80.0            65.000000   \n",
      "17 2024-01-18        2900.0   60.000000          85.0            70.000000   \n",
      "18 2024-01-19         100.0    4.000000          19.0             2.000000   \n",
      "19 2024-01-20          50.0    2.000000          21.0             1.000000   \n",
      "\n",
      "   Region  \n",
      "0   North  \n",
      "1   South  \n",
      "2    East  \n",
      "3    West  \n",
      "4   North  \n",
      "5   South  \n",
      "6    East  \n",
      "7    West  \n",
      "8   North  \n",
      "9   South  \n",
      "10   East  \n",
      "11   West  \n",
      "12   None  \n",
      "13  South  \n",
      "14   East  \n",
      "15   West  \n",
      "16  North  \n",
      "17  South  \n",
      "18   East  \n",
      "19   West  \n"
     ]
    },
    {
     "name": "stderr",
     "output_type": "stream",
     "text": [
      "C:\\Users\\bsneh\\AppData\\Local\\Temp\\ipykernel_10228\\1101948191.py:2: FutureWarning: Series.fillna with 'method' is deprecated and will raise in a future version. Use obj.ffill() or obj.bfill() instead.\n",
      "  df[\"Date\"] = df[\"Date\"].fillna(method=\"ffill\")\n"
     ]
    }
   ],
   "source": [
    "df['Date']=pd.to_datetime(df['Date'])\n",
    "df[\"Date\"] = df[\"Date\"].fillna(method=\"ffill\")\n",
    "print(df)"
   ]
  },
  {
   "cell_type": "code",
   "execution_count": 19,
   "id": "455f7da1-89b6-4f52-9827-bbd234ddca71",
   "metadata": {},
   "outputs": [
    {
     "name": "stdout",
     "output_type": "stream",
     "text": [
      "IQR for Sales_Amount: 712.5\n"
     ]
    }
   ],
   "source": [
    "import numpy as np\n",
    "column = \"Sales_Amount\"\n",
    "data = df[column].dropna()\n",
    "Q1 = np.percentile(data, 25)  # 25th percentile (Q1)\n",
    "Q3 = np.percentile(data, 75)  # 75th percentile (Q3)\n",
    "IQR = Q3 - Q1 \n",
    "print(f\"IQR for {column}: {IQR}\")"
   ]
  },
  {
   "cell_type": "code",
   "execution_count": 28,
   "id": "1dfce0f2-814e-44a8-9322-5ba7bd5450fe",
   "metadata": {},
   "outputs": [
    {
     "name": "stdout",
     "output_type": "stream",
     "text": [
      "The outliers are:\n",
      "         Date  Sales_Amount  Units_Sold  Customer_Age  Discount_Percentage  \\\n",
      "15 2024-01-16        2500.0        50.0          75.0                 60.0   \n",
      "16 2024-01-17        2700.0        55.0          80.0                 65.0   \n",
      "17 2024-01-18        2900.0        60.0          85.0                 70.0   \n",
      "\n",
      "   Region  \n",
      "15   West  \n",
      "16  North  \n",
      "17  South  \n"
     ]
    }
   ],
   "source": [
    "# Calculate lower and upper bounds for outliers\n",
    "lower_bound = Q1 - 1.5 * IQR\n",
    "upper_bound = Q3 + 1.5 * IQR\n",
    "\n",
    "# Filter outliers\n",
    "outliers = df[(df['Sales_Amount'] < lower_bound) | (df['Sales_Amount'] > upper_bound)]\n",
    "\n",
    "# Print outliers\n",
    "print(f\"The outliers are:\\n{outliers}\")\n"
   ]
  },
  {
   "cell_type": "code",
   "execution_count": 49,
   "id": "c16f5182-ee15-4c9e-956f-34c747599690",
   "metadata": {},
   "outputs": [
    {
     "name": "stdout",
     "output_type": "stream",
     "text": [
      "Cleaned data:\n",
      "          Date  Sales_Amount  Units_Sold  Customer_Age  Discount_Percentage  \\\n",
      "0  2024-01-01         100.0    5.000000          25.0             5.000000   \n",
      "1  2024-01-02         200.0    8.000000          30.0            10.000000   \n",
      "2  2024-01-03         150.0    6.000000          22.0             3.000000   \n",
      "3  2024-01-04         250.0   10.000000          35.0            15.000000   \n",
      "4  2024-01-05         300.0   12.000000          40.0            20.000000   \n",
      "5  2024-01-06         850.0   21.055556          19.0            26.055556   \n",
      "6  2024-01-07         500.0   15.000000          50.0            25.000000   \n",
      "7  2024-01-07         700.0   20.000000          60.0            30.000000   \n",
      "8  2024-01-09        1100.0   30.000000          20.0            35.000000   \n",
      "9  2024-01-10         900.0   25.000000          45.0            40.000000   \n",
      "10 2024-01-11        1500.0   35.000000          55.0            50.000000   \n",
      "11 2024-01-12         350.0   10.000000          38.0             8.000000   \n",
      "12 2024-01-13         400.0   14.000000          29.0            12.000000   \n",
      "13 2024-01-14         850.0   21.055556          19.0            26.055556   \n",
      "14 2024-01-15         600.0   18.000000          42.0            18.000000   \n",
      "18 2024-01-19         100.0    4.000000          19.0             2.000000   \n",
      "19 2024-01-20          50.0    2.000000          21.0             1.000000   \n",
      "\n",
      "   Region  \n",
      "0   North  \n",
      "1   South  \n",
      "2    East  \n",
      "3    West  \n",
      "4   North  \n",
      "5   South  \n",
      "6    East  \n",
      "7    West  \n",
      "8   North  \n",
      "9   South  \n",
      "10   East  \n",
      "11   West  \n",
      "12   None  \n",
      "13  South  \n",
      "14   East  \n",
      "18   East  \n",
      "19   West  \n"
     ]
    }
   ],
   "source": [
    "cleaned_data=df[(df['Sales_Amount'] > lower_bound) & (df['Sales_Amount'] < upper_bound)]\n",
    "print(f'Cleaned data:\\n {cleaned_data}')"
   ]
  },
  {
   "cell_type": "code",
   "execution_count": 1,
   "id": "48ac7698-dc9e-4b5a-b21d-d327c1625687",
   "metadata": {},
   "outputs": [
    {
     "ename": "NameError",
     "evalue": "name 'cleaned_data' is not defined",
     "output_type": "error",
     "traceback": [
      "\u001b[1;31m---------------------------------------------------------------------------\u001b[0m",
      "\u001b[1;31mNameError\u001b[0m                                 Traceback (most recent call last)",
      "Cell \u001b[1;32mIn[1], line 4\u001b[0m\n\u001b[0;32m      2\u001b[0m \u001b[38;5;28;01mimport\u001b[39;00m \u001b[38;5;21;01mmatplotlib\u001b[39;00m\u001b[38;5;21;01m.\u001b[39;00m\u001b[38;5;21;01mpyplot\u001b[39;00m \u001b[38;5;28;01mas\u001b[39;00m \u001b[38;5;21;01mplt\u001b[39;00m\n\u001b[0;32m      3\u001b[0m plt\u001b[38;5;241m.\u001b[39mfigure(figsize\u001b[38;5;241m=\u001b[39m(\u001b[38;5;241m5\u001b[39m, \u001b[38;5;241m4\u001b[39m))\n\u001b[1;32m----> 4\u001b[0m sns\u001b[38;5;241m.\u001b[39mboxplot(data\u001b[38;5;241m=\u001b[39mcleaned_data,color\u001b[38;5;241m=\u001b[39m\u001b[38;5;124m'\u001b[39m\u001b[38;5;124mOrange\u001b[39m\u001b[38;5;124m'\u001b[39m)\n\u001b[0;32m      5\u001b[0m plt\u001b[38;5;241m.\u001b[39mtitle(\u001b[38;5;124m\"\u001b[39m\u001b[38;5;124mBoxplot of Sales Data after removing outliers\u001b[39m\u001b[38;5;124m\"\u001b[39m)\n\u001b[0;32m      6\u001b[0m plt\u001b[38;5;241m.\u001b[39mxlabel(\u001b[38;5;124m\"\u001b[39m\u001b[38;5;124mFeatures\u001b[39m\u001b[38;5;124m\"\u001b[39m)\n",
      "\u001b[1;31mNameError\u001b[0m: name 'cleaned_data' is not defined"
     ]
    },
    {
     "data": {
      "text/plain": [
       "<Figure size 500x400 with 0 Axes>"
      ]
     },
     "metadata": {},
     "output_type": "display_data"
    }
   ],
   "source": [
    "import seaborn as sns\n",
    "import matplotlib.pyplot as plt\n",
    "plt.figure(figsize=(5, 4))\n",
    "sns.boxplot(data=cleaned_data,color='Orange')\n",
    "plt.title(\"Boxplot of Sales Data after removing outliers\")\n",
    "plt.xlabel(\"Features\")\n",
    "plt.ylabel(\"Values\")\n",
    "plt.show()"
   ]
  },
  {
   "cell_type": "code",
   "execution_count": 39,
   "id": "2b8fe07e-8c89-422f-a613-d8df9cad18bd",
   "metadata": {},
   "outputs": [
    {
     "data": {
      "text/plain": [
       "Text(0.5, 0, 'Units_Sold')"
      ]
     },
     "execution_count": 39,
     "metadata": {},
     "output_type": "execute_result"
    },
    {
     "data": {
      "image/png": "[encoded data removed]",
      "text/plain": [
       "<Figure size 500x300 with 1 Axes>"
      ]
     },
     "metadata": {},
     "output_type": "display_data"
    }
   ],
   "source": [
    "import seaborn as sns\n",
    "import matplotlib.pyplot as plt\n",
    "\n",
    "plt.figure(figsize=(5, 3))\n",
    "sns.boxplot(y=df['Sales_Amount'], color='Green')\n",
    "plt.title('Boxplot for salesdata before removing outliers')\n",
    "plt.xlabel('Units_Sold')"
   ]
  },
  {
   "cell_type": "code",
   "execution_count": 38,
   "id": "a1a1ea52-af98-42c3-ba3c-2cb6f6033c5e",
   "metadata": {},
   "outputs": [
    {
     "data": {
      "image/png": "[encoded data removed]",
      "text/plain": [
       "<Figure size 1000x600 with 1 Axes>"
      ]
     },
     "metadata": {},
     "output_type": "display_data"
    }
   ],
   "source": [
    "import seaborn as sns\n",
    "import matplotlib.pyplot as plt\n",
    "plt.figure(figsize=(10, 6))\n",
    "sns.boxplot(data=sales_data,color='Orange')\n",
    "plt.title(\"Boxplot of Sales Data before removing outliers\")\n",
    "plt.xlabel(\"Features\")\n",
    "plt.ylabel(\"Values\")\n",
    "plt.show()"
   ]
  },
  {
   "cell_type": "code",
   "execution_count": null,
   "id": "cbe94697-7860-460f-bb1c-e092d5b29aeb",
   "metadata": {},
   "outputs": [],
   "source": []
  }
 ],
 "metadata": {
  "kernelspec": {
   "display_name": "Python 3 (ipykernel)",
   "language": "python",
   "name": "python3"
  },
  "language_info": {
   "codemirror_mode": {
    "name": "ipython",
    "version": 3
   },
   "file_extension": ".py",
   "mimetype": "text/x-python",
   "name": "python",
   "nbconvert_exporter": "python",
   "pygments_lexer": "ipython3",
   "version": "3.12.4"
  }
 },
 "nbformat": 4,
 "nbformat_minor": 5
}
